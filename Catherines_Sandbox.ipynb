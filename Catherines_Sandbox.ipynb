{
 "metadata": {
  "name": "Catherines_Sandbox"
 },
 "nbformat": 3,
 "nbformat_minor": 0,
 "worksheets": [
  {
   "cells": [
    {
     "cell_type": "code",
     "collapsed": false,
     "input": [
      "import pandas as pd\n",
      "import numpy as np\n",
      "import matplotlib.pyplot as plt"
     ],
     "language": "python",
     "metadata": {},
     "outputs": [],
     "prompt_number": 12
    },
    {
     "cell_type": "code",
     "collapsed": false,
     "input": [
      "#hospitaldischarges = pd.read_json('http://health.data.ny.gov/resource/u4ud-w55t.json')\n",
      "hospitaldischarges = pd.read_csv('/home/ibanez/data/NY/Data/Health/NDoCH2014/Hospital_Inpatient_Discharges__SPARCS_De-Identified___2012.csv')"
     ],
     "language": "python",
     "metadata": {},
     "outputs": [],
     "prompt_number": 17
    },
    {
     "cell_type": "code",
     "collapsed": false,
     "input": [
      "#hospitaldischarges.groupby(\"source_of_payment_1\")['total_charges'].sum()\n",
      "import string\n",
      "tbl = string.maketrans(\"\",\"\")\n",
      "hospitaldischarges['Total Charges'] = hospitaldischarges['Total Charges'].apply(lambda x: float(x.translate(tbl,\"$\")))"
     ],
     "language": "python",
     "metadata": {},
     "outputs": [],
     "prompt_number": 18
    },
    {
     "cell_type": "code",
     "collapsed": false,
     "input": [
      "#hospitaldischarges.groupby(\"source_of_payment_2\")['total_charges'].sum()\n",
      "hospitaldischarges.groupby(\"Source of Payment 2\")['Total Charges'].sum()"
     ],
     "language": "python",
     "metadata": {},
     "outputs": [
      {
       "output_type": "pyout",
       "prompt_number": 19,
       "text": [
        "Source of Payment 2\n",
        "Blue Cross                   6.747343e+09\n",
        "CHAMPUS                      1.968296e+08\n",
        "Insurance Company            9.823311e+09\n",
        "Medicaid                     1.814361e+10\n",
        "Medicare                     1.312164e+10\n",
        "Other Federal Program        2.433326e+08\n",
        "Other Non-Federal Program    5.339479e+07\n",
        "Self-Pay                     1.316295e+10\n",
        "Unknown                      1.725578e+09\n",
        "Workers Compensation         1.309782e+07\n",
        "Name: Total Charges, dtype: float64"
       ]
      }
     ],
     "prompt_number": 19
    },
    {
     "cell_type": "code",
     "collapsed": false,
     "input": [
      "#hospitaldischarges.groupby(\"source_of_payment_3\")['total_charges'].sum()\n",
      "hospitaldischarges.groupby(\"Source of Payment 3\")['Total Charges'].sum()"
     ],
     "language": "python",
     "metadata": {},
     "outputs": [
      {
       "output_type": "pyout",
       "prompt_number": 9,
       "text": [
        "Source of Payment 3\n",
        "Blue Cross                   $32701.47$30725.47$80534.28$50117.17$10494.78$...\n",
        "CHAMPUS                      $47737.08$29646.71$64883.24$18258.35$23901.70$...\n",
        "Insurance Company            $24788.89$61397.89$87504.27$74131.53$22086.07$...\n",
        "Medicaid                     $32016.71$41343.85$51375.26$11755.19$50294.13$...\n",
        "Medicare                     $19314.56$20596.75$24185.78$13444.40$11737.87$...\n",
        "Other Federal Program        $24175.29$48940.27$33320.00$34030.92$85000.54$...\n",
        "Other Non-Federal Program    $227564.23$34594.80$8181.18$6698.16$22001.55$1...\n",
        "Self-Pay                     $62328.96$47872.06$13188.46$25835.33$188304.48...\n",
        "Unknown                      $67680.89$11573.81$9886.23$15689.25$64504.22$2...\n",
        "Workers Compensation         $25616.66$403182.90$3090.85$40729.58$20571.05$...\n",
        "Name: Total Charges, dtype: object"
       ]
      }
     ],
     "prompt_number": 9
    }
   ],
   "metadata": {}
  }
 ]
}
{
 "metadata": {
  "name": "Catherines_Sandbox"
 },
 "nbformat": 3,
 "nbformat_minor": 0,
 "worksheets": [
  {
   "cells": [
    {
     "cell_type": "code",
     "collapsed": false,
     "input": [
      "import pandas as pd\n",
      "import numpy as np\n",
      "import matplotlib.pyplot as plt"
     ],
     "language": "python",
     "metadata": {},
     "outputs": [],
     "prompt_number": 1
    },
    {
     "cell_type": "code",
     "collapsed": false,
     "input": [
      "#hospitaldischarges = pd.read_json('http://health.data.ny.gov/resource/u4ud-w55t.json')\n",
      "hospitaldischarges = pd.read_csv('hospitals.csv')"
     ],
     "language": "python",
     "metadata": {},
     "outputs": [],
     "prompt_number": 19
    },
    {
     "cell_type": "code",
     "collapsed": false,
     "input": [
      "hospitaldischarges.columns"
     ],
     "language": "python",
     "metadata": {},
     "outputs": [
      {
       "output_type": "pyout",
       "prompt_number": 21,
       "text": [
        "Index([u'Hospital Service Area', u'Hospital County', u'Operating Certificate Number', u'Facility Id', u'Facility Name', u'Age Group', u'Zip Code - 3 digits', u'Gender', u'Race', u'Ethnicity', u'Length of Stay', u'Admit Day of Week', u'Type of Admission', u'Patient Disposition', u'Discharge Year', u'Discharge Day of Week', u'CCS Diagnosis Code', u'CCS Diagnosis Description', u'CCS Procedure Code', u'CCS Procedure Description', u'APR DRG Code', u'APR DRG Description', u'APR MDC Code', u'APR MDC Description', u'APR Severity of Illness Code', u'APR Severity of Illness Description', u'APR Risk of Mortality', u'APR Medical Surgical Description', u'Source of Payment 1', u'Source of Payment 2', u'Source of Payment 3', u'Attending Provider License Number', u'Operating Provider License Number', u'Other Provider License Number', u'Birth Weight', u'Abortion Edit Indicator', u'Emergency Department Indicator', u'Total Charges'], dtype=object)"
       ]
      }
     ],
     "prompt_number": 21
    },
    {
     "cell_type": "code",
     "collapsed": false,
     "input": [
      "#hospitaldischarges.groupby(\"source_of_payment_1\")['total_charges'].sum()\n",
      "hospitaldischarges.groupby(\"Source of Payment 1\")['Total Charges'].sum()"
     ],
     "language": "python",
     "metadata": {},
     "outputs": [],
     "prompt_number": "*"
    },
    {
     "cell_type": "code",
     "collapsed": false,
     "input": [
      "#hospitaldischarges.groupby(\"source_of_payment_2\")['total_charges'].sum()\n",
      "hospitaldischarges.groupby(\"Source of Payment 2\")['Total Charges'].sum()"
     ],
     "language": "python",
     "metadata": {},
     "outputs": [],
     "prompt_number": "*"
    },
    {
     "cell_type": "code",
     "collapsed": false,
     "input": [
      "#hospitaldischarges.groupby(\"source_of_payment_3\")['total_charges'].sum()\n",
      "hospitaldischarges.groupby(\"Source of Payment 3\")['Total Charges'].sum()"
     ],
     "language": "python",
     "metadata": {},
     "outputs": [
      {
       "output_type": "pyout",
       "prompt_number": 18,
       "text": [
        "source_of_payment_3\n",
        "Blue Cross                 211201.98\n",
        "Insurance Company          111924.10\n",
        "Medicaid                   833479.52\n",
        "Medicare                    86238.38\n",
        "Other Federal Program       93440.56\n",
        "Self-Pay                 36725659.26\n",
        "Unknown                   1315054.44\n",
        "Name: total_charges, dtype: float64"
       ]
      }
     ],
     "prompt_number": 18
    }
   ],
   "metadata": {}
  }
 ]
}
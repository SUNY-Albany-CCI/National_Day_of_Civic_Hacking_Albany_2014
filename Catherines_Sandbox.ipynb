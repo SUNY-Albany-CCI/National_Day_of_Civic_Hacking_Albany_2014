{
 "metadata": {
  "name": "",
  "signature": "sha256:14e9957d24a63f58990096d1bfd02cbfb0e4477d484e0ade7991d8118ffc3d2b"
 },
 "nbformat": 3,
 "nbformat_minor": 0,
 "worksheets": [
  {
   "cells": [
    {
     "cell_type": "code",
     "collapsed": false,
     "input": [
      "import pandas as pd\n",
      "import numpy as np\n",
      "import matplotlib.pyplot as plt"
     ],
     "language": "python",
     "metadata": {},
     "outputs": [],
     "prompt_number": 2
    },
    {
     "cell_type": "code",
     "collapsed": false,
     "input": [
      "#hospitaldischarges = pd.read_json('http://health.data.ny.gov/resource/u4ud-w55t.json')\n",
      "hospitaldischarges = pd.read_csv('data/Hospital_Inpatient_Discharges__SPARCS_De-Identified___2012.csv')"
     ],
     "language": "python",
     "metadata": {},
     "outputs": [],
     "prompt_number": 5
    },
    {
     "cell_type": "code",
     "collapsed": false,
     "input": [
      "#hospitaldischarges.groupby(\"source_of_payment_1\")['total_charges'].sum()\n",
      "import string\n",
      "tbl = string.maketrans(\"\",\"\")\n",
      "hospitaldischarges['Total Charges'] = hospitaldischarges['Total Charges'].apply(lambda x: float(x.translate(tbl,\"$\")))"
     ],
     "language": "python",
     "metadata": {},
     "outputs": [],
     "prompt_number": 6
    },
    {
     "cell_type": "code",
     "collapsed": false,
     "input": [
      "#hospitaldischarges.groupby(\"source_of_payment_2\")['total_charges'].sum()\n",
      "hospitaldischarges.groupby(\"Source of Payment 2\")['Total Charges'].sum()"
     ],
     "language": "python",
     "metadata": {},
     "outputs": [
      {
       "metadata": {},
       "output_type": "pyout",
       "prompt_number": 7,
       "text": [
        "Source of Payment 2\n",
        "Blue Cross                   6.747343e+09\n",
        "CHAMPUS                      1.968296e+08\n",
        "Insurance Company            9.823311e+09\n",
        "Medicaid                     1.814361e+10\n",
        "Medicare                     1.312164e+10\n",
        "Other Federal Program        2.433326e+08\n",
        "Other Non-Federal Program    5.339479e+07\n",
        "Self-Pay                     1.316295e+10\n",
        "Unknown                      1.725578e+09\n",
        "Workers Compensation         1.309782e+07\n",
        "Name: Total Charges, dtype: float64"
       ]
      }
     ],
     "prompt_number": 7
    },
    {
     "cell_type": "code",
     "collapsed": false,
     "input": [
      "hospitaldischarges['Total Charges'].sum()"
     ],
     "language": "python",
     "metadata": {},
     "outputs": [
      {
       "metadata": {},
       "output_type": "pyout",
       "prompt_number": 8,
       "text": [
        "84374462640.481461"
       ]
      }
     ],
     "prompt_number": 8
    }
   ],
   "metadata": {}
  }
 ]
}